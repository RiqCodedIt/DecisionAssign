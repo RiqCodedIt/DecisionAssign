{
  "cells": [
    {
      "cell_type": "code",
      "execution_count": 2,
      "metadata": {},
      "outputs": [
        {
          "name": "stdout",
          "output_type": "stream",
          "text": [
            "Defaulting to user installation because normal site-packages is not writeable\n",
            "Requirement already satisfied: scikit-learn in /Users/tariqgeorges/Library/Python/3.9/lib/python/site-packages (1.4.2)\n",
            "Requirement already satisfied: threadpoolctl>=2.0.0 in /Users/tariqgeorges/Library/Python/3.9/lib/python/site-packages (from scikit-learn) (3.5.0)\n",
            "Requirement already satisfied: joblib>=1.2.0 in /Users/tariqgeorges/Library/Python/3.9/lib/python/site-packages (from scikit-learn) (1.4.2)\n",
            "Requirement already satisfied: scipy>=1.6.0 in /Users/tariqgeorges/Library/Python/3.9/lib/python/site-packages (from scikit-learn) (1.13.0)\n",
            "Requirement already satisfied: numpy>=1.19.5 in /Users/tariqgeorges/Library/Python/3.9/lib/python/site-packages (from scikit-learn) (1.26.4)\n",
            "\u001b[33mWARNING: You are using pip version 21.2.4; however, version 24.0 is available.\n",
            "You should consider upgrading via the '/Applications/Xcode.app/Contents/Developer/usr/bin/python3 -m pip install --upgrade pip' command.\u001b[0m\n",
            "Note: you may need to restart the kernel to use updated packages.\n"
          ]
        }
      ],
      "source": [
        "%pip install scikit-learn\n",
        "# %pip install scipy"
      ]
    },
    {
      "cell_type": "code",
      "execution_count": 3,
      "metadata": {
        "id": "GrsHU4HIfa6a"
      },
      "outputs": [],
      "source": [
        "import numpy as np\n",
        "import matplotlib.pyplot as plt\n",
        "import random\n",
        "from sklearn.datasets import make_blobs\n",
        "import statistics\n",
        "from scipy.spatial import Voronoi, voronoi_plot_2d"
      ]
    },
    {
      "cell_type": "code",
      "execution_count": 4,
      "metadata": {
        "id": "xTc8Jyy1gR7_"
      },
      "outputs": [],
      "source": [
        "candidates = 4\n",
        "voters = 10000\n",
        "\n",
        "#cost for candidate x is sum of all distances from x to a voter on plot\n",
        "#optimum candidate is candidate x s.t. opt_cand = argmin(Cost(x in X))\n",
        "#Distortion is worst case ratio by candidate chosen by voter profiles over optimum candidate costs\n"
      ]
    },
    {
      "cell_type": "code",
      "execution_count": 5,
      "metadata": {
        "id": "2BENi6SFCgR7"
      },
      "outputs": [],
      "source": [
        "def calculate_cost(v_x, v_y, c_x, c_y):\n",
        "    # Calculate cost for each candidate\n",
        "    costs = []\n",
        "    for x2, y2 in zip(c_x, c_y):\n",
        "        sum = 0\n",
        "        for x, y in zip(v_x, v_y):\n",
        "            distance = dist([x,y],[x2,y2])\n",
        "            sum += distance\n",
        "        costs.append(sum)\n",
        "        print(f'Cost of candidate = {sum}')\n",
        "    # Return minimum cost\n",
        "    return costs\n"
      ]
    },
    {
      "cell_type": "code",
      "execution_count": 6,
      "metadata": {
        "colab": {
          "base_uri": "https://localhost:8080/"
        },
        "id": "bZj5eNzgxCK-",
        "outputId": "34d9daae-bddd-4c5a-afea-eeeb818cc84e"
      },
      "outputs": [
        {
          "name": "stdout",
          "output_type": "stream",
          "text": [
            "canidate 0 coordinate: (34, 46)\n",
            "canidate 1 coordinate: (24, 41)\n",
            "canidate 2 coordinate: (-27, -40)\n",
            "canidate 3 coordinate: (48, -37)\n"
          ]
        }
      ],
      "source": [
        "import math\n",
        "from math import dist\n",
        "#sklearn make blobs\n",
        "\n",
        "def gen_and_plot_points(voters, candidates):\n",
        "    x1 = []\n",
        "    y1 = []\n",
        "    for _ in range(voters):\n",
        "        x1.append(random.randint(-60, 60))\n",
        "        y1.append(random.randint(-60, 60))\n",
        "\n",
        "    x2 = []\n",
        "    y2 = []\n",
        "    for _ in range(candidates):\n",
        "        x2.append(random.randint(-50, 50))\n",
        "        y2.append(random.randint(-50, 50))\n",
        "\n",
        "    for i in range(candidates):\n",
        "      print(f'canidate {i} coordinate: ({x2[i]}, {y2[i]})')\n",
        "\n",
        "    # plt.scatter(x1, y1, color='blue', label='Voters')\n",
        "    # plt.scatter(x2, y2, color='red', label='Candidates')\n",
        "    # plt.title('Randomly Generated Points')\n",
        "    # plt.legend()  # Show legend\n",
        "    # plt.grid(True)\n",
        "    # plt.show()\n",
        "    return x1, y1, x2, y2\n",
        "\n",
        "\n",
        "\n",
        "v_x, v_y, c_x, c_y = gen_and_plot_points(voters, candidates)\n",
        "\n",
        "\n",
        "\n",
        "# X1, Y1, Centers = make_blobs(n_samples=voters, n_features=2, centers=candidates, center_box=(-20.0,20.0), cluster_std=3.8, return_centers=True)\n",
        "# plt.scatter(X1[:,0], X1[:,1], marker='o', c=Y1, s=25, edgecolor='k')\n",
        "\n",
        "\n",
        "#For every ranking color a point a color for a different plot. Color every voter by their ranking (dont need to stick with the blobs)\n",
        "#assign each ranking a number. number corresponds to color those will be new labels instead of Y1"
      ]
    },
    {
      "cell_type": "code",
      "execution_count": 7,
      "metadata": {
        "id": "il364foFh3sx"
      },
      "outputs": [],
      "source": [
        "# print(X1)\n",
        "# print(f'X1 shape is: {X1.shape}')\n",
        "#Cost(Candidate 0) = Sum of distances from vi to candidate c0\n",
        "\n",
        "# plt.show()\n",
        "\n",
        "def get_preferences(v_x, v_y, c_x, c_y):\n",
        "  preferences = []\n",
        "  for x, y in zip(v_x, v_y):\n",
        "      # Create a list of tuples [(distance, original_index), ...]\n",
        "      distance_and_index = []\n",
        "      for index, (x2, y2) in enumerate(zip(c_x, c_y)):\n",
        "          distance = dist([x, y], [x2, y2])\n",
        "          distance_and_index.append((distance, index))\n",
        "\n",
        "      # Sort based on distances and extract the ranking by their original indices\n",
        "      distance_and_index.sort()  # Sorts based on distance because it's the first element of the tuple\n",
        "      ranked_preferences = [index for _, index in distance_and_index]\n",
        "      preferences.append(ranked_preferences)\n",
        "  return preferences\n",
        "\n",
        "preferences = get_preferences(v_x, v_y, c_x, c_y)\n",
        "\n",
        "# preferences"
      ]
    },
    {
      "cell_type": "code",
      "execution_count": 8,
      "metadata": {
        "colab": {
          "base_uri": "https://localhost:8080/"
        },
        "id": "mdiYkuVuwmTZ",
        "outputId": "249cf3ee-5645-48c6-d72c-793f3e6c31e1"
      },
      "outputs": [
        {
          "name": "stdout",
          "output_type": "stream",
          "text": [
            "Cost of candidate = 687902.1273109071\n",
            "Cost of candidate = 621830.9432816535\n",
            "Cost of candidate = 627336.7314089786\n",
            "Cost of candidate = 709026.1316324715\n",
            "1\n",
            "Optimal Candidate Position: [24, 41]\n"
          ]
        }
      ],
      "source": [
        "costs = calculate_cost(v_x, v_y, c_x, c_y)\n",
        "\n",
        "\n",
        "costs_array = np.array(costs)\n",
        "min_index = np.argmin(costs_array)\n",
        "# rank = [sorted(costs).index(x) for x in costs]\n",
        "# index = np.where(rank == 0)\n",
        "print(min_index)\n",
        "#Optimal candidate is first index\n",
        "print(f'Optimal Candidate Position: [{c_x[min_index]}, {c_y[min_index]}]')"
      ]
    },
    {
      "cell_type": "code",
      "execution_count": 33,
      "metadata": {
        "colab": {
          "base_uri": "https://localhost:8080/"
        },
        "id": "a7HEzno2x0Mv",
        "outputId": "7679e944-c8b7-42bf-d5f7-996ab230de99"
      },
      "outputs": [
        {
          "data": {
            "text/plain": [
              "[3, 1, 2, 0]"
            ]
          },
          "execution_count": 33,
          "metadata": {},
          "output_type": "execute_result"
        }
      ],
      "source": [
        "preferences[1593]"
      ]
    },
    {
      "cell_type": "code",
      "execution_count": 9,
      "metadata": {
        "id": "GFM2jKGvDica"
      },
      "outputs": [],
      "source": [
        "#Debug code\n",
        "from matplotlib.patches import Patch\n",
        "import itertools\n",
        "\n",
        "def plot_voronoi(x1, y1, x2, y2, preferences):\n",
        "    # Assign colors to each candidate\n",
        "    colors = [\n",
        "        'red', 'green', 'blue', 'yellow', 'orange', 'purple', 'cyan', 'magenta',\n",
        "        'lime', 'pink', 'teal', 'lavender', 'brown', 'beige', 'maroon', 'green',\n",
        "        'coral', 'olive', 'navy', 'grey', 'black', 'white', 'gold', 'silver'\n",
        "    ]\n",
        "    permutations = list(itertools.permutations([0, 1, 2, 3]))\n",
        "\n",
        "    # Ensure there are enough colors\n",
        "    assert len(colors) >= len(permutations), \"Not enough colors for all permutations\"\n",
        "\n",
        "    # Create the dictionary mapping permutations to colors\n",
        "    perm_to_color = {perm: colors[i] for i, perm in enumerate(permutations)}\n",
        "\n",
        "    # Example usage: Print the mapping\n",
        "    # for perm, color in perm_to_color.items():\n",
        "    #     print(f\"Permutation {perm} is mapped to color {color}\")\n",
        "\n",
        "    # Add more colors if needed\n",
        "    # Plot the points\n",
        "    for i in range(len(x1)):\n",
        "        # print(i)\n",
        "        voter_color = perm_to_color[tuple(preferences[i])]  # Color based on first preference\n",
        "        plt.scatter(x1[i], y1[i], color=voter_color)\n",
        "    for i in range(len(x2)):\n",
        "        plt.scatter(x2[i], y2[i], color='brown', label=f'Candidate {i+1}')\n",
        "    plt.xlabel('X')\n",
        "    plt.ylabel('Y')\n",
        "    plt.title('Voronoi Voter Plot')\n",
        "    # plt.legend()  # Show legend\n",
        "    plt.grid(True)\n",
        "    plt.show()"
      ]
    },
    {
      "cell_type": "code",
      "execution_count": 21,
      "metadata": {
        "colab": {
          "base_uri": "https://localhost:8080/"
        },
        "id": "dyj8BocHyB7H",
        "outputId": "cc49543a-b299-46d4-d85d-bc800ec1ac04"
      },
      "outputs": [
        {
          "data": {
            "text/plain": [
              "str"
            ]
          },
          "execution_count": 21,
          "metadata": {},
          "output_type": "execute_result"
        }
      ],
      "source": [
        "plot_voronoi(v_x, v_y, c_x, c_y)"
      ]
    },
    {
      "cell_type": "code",
      "execution_count": 11,
      "metadata": {
        "colab": {
          "base_uri": "https://localhost:8080/"
        },
        "id": "pfPGsIksPcHV",
        "outputId": "8486cab5-b915-4650-824c-3d40755ba910"
      },
      "outputs": [
        {
          "name": "stdout",
          "output_type": "stream",
          "text": [
            "Random Dict: 0\n",
            "Plurality: 2\n",
            "Borda: 1\n"
          ]
        }
      ],
      "source": [
        "num_candidates = len(preferences[0])\n",
        "\n",
        "# Random Dictator Rule\n",
        "def random_dictator(preferences):\n",
        "    dictator = random.choice(preferences)\n",
        "    return dictator[0]\n",
        "\n",
        "# Plurality Voting Rule\n",
        "def plurality(preferences, num_candidates):\n",
        "    # Initialize vote counts\n",
        "    vote_counts = [0] * num_candidates\n",
        "    for ranking in preferences:\n",
        "        vote_counts[ranking[0]] += 1\n",
        "    # Candidate with the most votes wins\n",
        "    winner = vote_counts.index(max(vote_counts))\n",
        "    return winner\n",
        "\n",
        "# Borda Count Voting Rule\n",
        "def borda(preferences, num_candidates):\n",
        "    # Initialize Borda scores\n",
        "    scores = [0] * num_candidates\n",
        "    for ranking in preferences:\n",
        "        for index, candidate in enumerate(ranking):\n",
        "            scores[candidate] += num_candidates - index - 1\n",
        "    # Candidate with the highest Borda score wins\n",
        "    winner = scores.index(max(scores))\n",
        "    return winner\n",
        "\n",
        "# Determine the optimal candidate based on each rule\n",
        "random_dictator_winner = random_dictator(preferences)\n",
        "plurality_winner = plurality(preferences, num_candidates)\n",
        "borda_winner = borda(preferences, num_candidates)\n",
        "\n",
        "print(f'Random Dict: {random_dictator_winner}')\n",
        "print(f'Plurality: {plurality_winner}')\n",
        "print(f'Borda: {borda_winner}')"
      ]
    },
    {
      "cell_type": "code",
      "execution_count": 12,
      "metadata": {
        "colab": {
          "base_uri": "https://localhost:8080/"
        },
        "id": "DRD5gKVqNY5O",
        "outputId": "3e4ed9a2-0dc8-4057-f3dc-c40d2850772d"
      },
      "outputs": [
        {
          "name": "stdout",
          "output_type": "stream",
          "text": [
            "canidate 0 coordinate: (-4, -49)\n",
            "canidate 1 coordinate: (49, -26)\n",
            "canidate 2 coordinate: (-22, 50)\n",
            "canidate 3 coordinate: (8, 7)\n",
            "Cost of candidate = 634680.851434445\n",
            "Cost of candidate = 675744.4477645331\n",
            "Cost of candidate = 665531.1934181346\n",
            "Cost of candidate = 468391.27789388\n",
            "3\n",
            "Optimal Candidate Position: [8, 7]\n",
            "Cost Ratios: Plurality - 1.0, Borda - 1.0, Random dictator - 1.3550227798610717\n",
            "canidate 0 coordinate: (19, 50)\n",
            "canidate 1 coordinate: (-26, -5)\n",
            "canidate 2 coordinate: (-15, -6)\n",
            "canidate 3 coordinate: (-7, 2)\n",
            "Cost of candidate = 665327.3258206709\n",
            "Cost of candidate = 509494.7136332897\n",
            "Cost of candidate = 477588.2657586137\n",
            "Cost of candidate = 463375.7829580187\n",
            "3\n",
            "Optimal Candidate Position: [-7, 2]\n",
            "Cost Ratios: Plurality - 1.0995281418913714, Borda - 1.0, Random dictator - 1.4358267097461777\n",
            "canidate 0 coordinate: (-47, -43)\n",
            "canidate 1 coordinate: (-13, -5)\n",
            "canidate 2 coordinate: (-17, 49)\n",
            "canidate 3 coordinate: (20, -45)\n",
            "Cost of candidate = 739902.1774255529\n",
            "Cost of candidate = 476243.0163989561\n",
            "Cost of candidate = 653151.9629094885\n",
            "Cost of candidate = 628477.4658320223\n",
            "1\n",
            "Optimal Candidate Position: [-13, -5]\n",
            "Cost Ratios: Plurality - 1.3714678019810227, Borda - 1.0, Random dictator - 1.5536231544563488\n",
            "canidate 0 coordinate: (-27, -18)\n",
            "canidate 1 coordinate: (-8, -24)\n",
            "canidate 2 coordinate: (19, -11)\n",
            "canidate 3 coordinate: (1, 43)\n",
            "Cost of candidate = 536080.7591259634\n",
            "Cost of candidate = 507705.54221102584\n",
            "Cost of candidate = 497332.8769050739\n",
            "Cost of candidate = 591176.3055520942\n",
            "2\n",
            "Optimal Candidate Position: [19, -11]\n",
            "Cost Ratios: Plurality - 1.188693394313709, Borda - 1.0, Random dictator - 1.0\n",
            "canidate 0 coordinate: (22, -15)\n",
            "canidate 1 coordinate: (2, -21)\n",
            "canidate 2 coordinate: (-45, 24)\n",
            "canidate 3 coordinate: (40, 2)\n",
            "Cost of candidate = 515296.2977803382\n",
            "Cost of candidate = 495769.3629289372\n",
            "Cost of candidate = 644806.872090462\n",
            "Cost of candidate = 580330.5416550691\n",
            "1\n",
            "Optimal Candidate Position: [2, -21]\n",
            "Cost Ratios: Plurality - 1.3006186350060676, Borda - 1.0, Random dictator - 1.3006186350060676\n",
            "canidate 0 coordinate: (0, 18)\n",
            "canidate 1 coordinate: (17, -46)\n",
            "canidate 2 coordinate: (-40, -26)\n",
            "canidate 3 coordinate: (26, 17)\n",
            "Cost of candidate = 488699.828877694\n",
            "Cost of candidate = 633576.1899959388\n",
            "Cost of candidate = 619864.3630617702\n",
            "Cost of candidate = 536282.2022607083\n",
            "0\n",
            "Optimal Candidate Position: [0, 18]\n",
            "Cost Ratios: Plurality - 1.0, Borda - 1.0, Random dictator - 1.0\n"
          ]
        }
      ],
      "source": [
        "epochs = 50\n",
        "fig, axes = plt.subplots(1, epochs, figsize=(5 * epochs, 5))\n",
        "cost_ratios = []\n",
        "for j in range(epochs):\n",
        "    v_x, v_y, c_x, c_y = gen_and_plot_points(voters, candidates)\n",
        "    preferences = get_preferences(v_x, v_y, c_x, c_y)\n",
        "    costs = calculate_cost(v_x, v_y, c_x, c_y)\n",
        "    costs_array = np.array(costs)\n",
        "    min_index = np.argmin(costs_array)\n",
        "    print(min_index)\n",
        "    opt_can = min_index\n",
        "    #Get voting rule winners\n",
        "    random_dictator_winner = random_dictator(preferences)\n",
        "    plurality_winner = plurality(preferences, num_candidates)\n",
        "    borda_winner = borda(preferences, num_candidates)\n",
        "    #Optimal candidate is min index\n",
        "    print(f'Optimal Candidate Position: [{c_x[min_index]}, {c_y[min_index]}]')\n",
        "    # Assign colors to each candidate\n",
        "    plurality_cr = float(costs[plurality_winner])/float(costs[opt_can])\n",
        "    borda_cr = float(costs[borda_winner])/float(costs[opt_can])\n",
        "    randomd_cr = float(costs[random_dictator_winner])/float(costs[opt_can])\n",
        "    cost_ratios.append([plurality_cr, borda_cr, randomd_cr])\n",
        "    print(f'Cost Ratios: Plurality - {plurality_cr}, Borda - {borda_cr}, Random dictator - {randomd_cr}')\n",
        "\n",
        "    colors = [\n",
        "        'red', 'green', 'blue', 'yellow', 'orange', 'purple', 'cyan', 'magenta',\n",
        "        'lime', 'pink', 'teal', 'lavender', 'brown', 'beige', 'maroon', 'green',\n",
        "        'coral', 'olive', 'navy', 'grey', 'black', 'white', 'gold', 'silver'\n",
        "    ]\n",
        "    permutations = list(itertools.permutations([0, 1, 2, 3]))\n",
        "\n",
        "    # Ensure there are enough colors\n",
        "    assert len(colors) >= len(permutations), \"Not enough colors for all permutations\"\n",
        "\n",
        "    # Create the dictionary mapping permutations to colors\n",
        "    perm_to_color = {perm: colors[i] for i, perm in enumerate(permutations)}\n",
        "\n",
        "    # Example usage: Print the mapping\n",
        "    # for perm, color in perm_to_color.items():\n",
        "    #     print(f\"Permutation {perm} is mapped to color {color}\")\n",
        "\n",
        "    # Add more colors if needed\n",
        "    # Plot the points\n",
        "    for i in range(len(v_x)):\n",
        "        # print(i)\n",
        "        voter_color = perm_to_color[tuple(preferences[i])]  # Color based on first preference\n",
        "        axes[j].scatter(v_x[i], v_y[i], color=voter_color)\n",
        "    for i in range(len(c_x)):\n",
        "        axes[j].scatter(c_x[i], c_y[i], color='brown', label=f'Candidate {i+1}')\n",
        "    axes[j].set_xlabel('X')\n",
        "    axes[j].set_ylabel('Y')\n",
        "    axes[j].set_title(f\"Voronoi Plot {i + 1}\")\n",
        "    # plt.legend()  # Show legend\n",
        "    plt.grid(True)\n",
        "\n",
        "plt.tight_layout()\n",
        "plt.show()\n",
        "\n"
      ]
    },
    {
      "cell_type": "code",
      "execution_count": 1,
      "metadata": {
        "id": "2GH0syILZkIE"
      },
      "outputs": [
        {
          "ename": "NameError",
          "evalue": "name 'plt' is not defined",
          "output_type": "error",
          "traceback": [
            "\u001b[0;31m---------------------------------------------------------------------------\u001b[0m",
            "\u001b[0;31mNameError\u001b[0m                                 Traceback (most recent call last)",
            "Cell \u001b[0;32mIn[1], line 1\u001b[0m\n\u001b[0;32m----> 1\u001b[0m \u001b[43mplt\u001b[49m\u001b[38;5;241m.\u001b[39msavefig(\u001b[38;5;124m\"\u001b[39m\u001b[38;5;124m100-trial-voting-rules.png\u001b[39m\u001b[38;5;124m\"\u001b[39m,\u001b[38;5;28mformat\u001b[39m\u001b[38;5;241m=\u001b[39m\u001b[38;5;124m'\u001b[39m\u001b[38;5;124mpng\u001b[39m\u001b[38;5;124m'\u001b[39m)\n",
            "\u001b[0;31mNameError\u001b[0m: name 'plt' is not defined"
          ]
        }
      ],
      "source": [
        "plt.savefig(\"100-trial-voting-rules.png\",format='png')"
      ]
    },
    {
      "cell_type": "code",
      "execution_count": null,
      "metadata": {},
      "outputs": [],
      "source": [
        "trials = list(range(1, epochs + 1))\n",
        "\n",
        "plurality_list = []\n",
        "borda_list = []\n",
        "rand_dict_list = []\n",
        "\n",
        "for ratios in cost_ratios:\n",
        "    plurality_list.append(ratios[0])\n",
        "for ratios in cost_ratios:\n",
        "    borda_list.append(ratios[1])\n",
        "for ratios in cost_ratios:\n",
        "    rand_dict_list.append(ratios[2])\n",
        "\n",
        "for i in range(1,epochs+1):\n",
        "    plt.plot(trials, plurality_list, label=\"Plurality\" if i == 1 else \"\", marker='o')\n",
        "    plt.plot(trials, borda_list, label=\"Borda\" if i == 1 else \"\", marker='o')\n",
        "    plt.plot(trials, rand_dict_list, label=\"Random Dictator\" if i == 1 else \"\", marker='o')\n",
        "\n",
        "# Label the plot\n",
        "plt.xlabel('Trial')\n",
        "plt.ylabel('Cost Ratio')\n",
        "plt.title('Cost Ratios of Different Voting Rules Over Trials')\n",
        "plt.legend()\n",
        "plt.grid(True)\n",
        "\n",
        "# Show the plot\n",
        "plt.show()\n",
        "plt.savefig(\"Cost-Ratio-LP.png\")"
      ]
    },
    {
      "cell_type": "code",
      "execution_count": null,
      "metadata": {
        "colab": {
          "base_uri": "https://localhost:8080/"
        },
        "id": "eFtMaqELCxDC",
        "outputId": "a066b1b5-f545-4201-9599-6c8f00577070"
      },
      "outputs": [
        {
          "name": "stdout",
          "output_type": "stream",
          "text": [
            "rank 0 has 3687 0's, 1104 1's, 522 2's, 4687 3's\n",
            "rank 1 has 2494 0's, 4763 1's, 2743 2's, 0 3's\n",
            "rank 2 has 2205 0's, 1271 1's, 2356 2's, 4168 3's\n",
            "rank 3 has 1614 0's, 2864 1's, 4379 2's, 1143 3's\n"
          ]
        }
      ],
      "source": [
        "#Use Vote-kit to score things\n",
        "#Check slack for link\n",
        "\n",
        "for j in range(len(preferences[0])):\n",
        "    ranks = []\n",
        "    s0 = s1 = s2 = s3 = s4 = 0\n",
        "    for i in range(len(preferences)):\n",
        "        if (preferences[i][j] == 0):\n",
        "            s0 += 1\n",
        "        elif (preferences[i][j] == 1):\n",
        "            s1 += 1\n",
        "        elif (preferences[i][j] == 2):\n",
        "            s2 += 1\n",
        "        elif (preferences[i][j] == 3):\n",
        "            s3 += 1\n",
        "        elif (preferences[i][j] == 4):\n",
        "            s4 += 1\n",
        "    print(f\"rank {j} has {s0} 0's, {s1} 1's, {s2} 2's, {s3} 3's\")"
      ]
    },
    {
      "cell_type": "code",
      "execution_count": null,
      "metadata": {
        "colab": {
          "base_uri": "https://localhost:8080/"
        },
        "id": "IBSgc7eIp55Z",
        "outputId": "aae96e4a-dc7e-4f31-9356-569f871ee8b8"
      },
      "outputs": [
        {
          "name": "stdout",
          "output_type": "stream",
          "text": [
            "cand 1 has fc: 11.450000000000001% and 1145 votes\n",
            "cand 2 has fc: 28.71% and 2871 votes\n",
            "cand 3 has fc: 40.589999999999996% and 4059 votes\n",
            "cand 4 has fc: 19.25% and 1925 votes\n",
            "cand 5 has fc: 0.0% and 0 votes\n",
            "\n",
            "\n"
          ]
        }
      ],
      "source": [
        "c_1 = 0\n",
        "c_2 = 0\n",
        "c_3 = 0\n",
        "c_4 = 0\n",
        "c_5 = 0\n",
        "optprofile = []\n",
        "for preference in zip(preferences):\n",
        "    # print(preference[0][2])\n",
        "    profilez = []\n",
        "    for i in range(candidates):\n",
        "        profilez.append(preference[0][i])\n",
        "    optprofile.append(profilez)\n",
        "    if preference[0][0] == 0:\n",
        "        c_1 += 1\n",
        "    elif preference[0][0] == 1:\n",
        "        c_2 += 1\n",
        "    elif preference[0][0] == 2:\n",
        "        c_3 += 1\n",
        "    elif preference[0][0] == 3:\n",
        "        c_4 += 1\n",
        "    elif preference[0][0] == 4:\n",
        "        c_5 += 1\n",
        "\n",
        "# print(optprofile[4003])\"\"\n",
        "\n",
        "final = []\n",
        "for i in range(candidates):\n",
        "    for j in range(voters):\n",
        "        final.append(optprofile[j][i])\n",
        "    vp = statistics.mode(optprofile[i])\n",
        "    final.append(vp)\n",
        "\n",
        "\n",
        "print(f'cand 1 has fc: {(float(c_1)/voters)*100}% and {c_1} votes')\n",
        "print(f'cand 2 has fc: {(float(c_2)/voters)*100}% and {c_2} votes')\n",
        "print(f'cand 3 has fc: {(float(c_3)/voters*100)}% and {c_3} votes')\n",
        "print(f'cand 4 has fc: {(float(c_4)/voters*100)}% and {c_4} votes')\n",
        "print(f'cand 5 has fc: {(float(c_5)/voters*100)}% and {c_5} votes')\n",
        "print('\\n')\n",
        "# print(f'voting profile is {final}')"
      ]
    }
  ],
  "metadata": {
    "accelerator": "GPU",
    "colab": {
      "gpuType": "T4",
      "provenance": []
    },
    "kernelspec": {
      "display_name": "Python 3",
      "name": "python3"
    },
    "language_info": {
      "codemirror_mode": {
        "name": "ipython",
        "version": 3
      },
      "file_extension": ".py",
      "mimetype": "text/x-python",
      "name": "python",
      "nbconvert_exporter": "python",
      "pygments_lexer": "ipython3",
      "version": "3.9.6"
    }
  },
  "nbformat": 4,
  "nbformat_minor": 0
}
